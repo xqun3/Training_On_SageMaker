{
 "cells": [
  {
   "cell_type": "markdown",
   "id": "f78e3de0-d9f2-4099-88ad-d2932fe952d1",
   "metadata": {},
   "source": [
    "# Multi-Node Training on SageMaker Training job"
   ]
  },
  {
   "cell_type": "code",
   "execution_count": null,
   "id": "1465fc2e-11a6-49fa-a0ff-84b6e0ea1501",
   "metadata": {
    "collapsed": true,
    "jupyter": {
     "outputs_hidden": true
    },
    "tags": []
   },
   "outputs": [],
   "source": [
    "# ## Update sagemaker python sdk version\n",
    "!pip install -U sagemaker"
   ]
  },
  {
   "cell_type": "markdown",
   "id": "b4fc2fef-6ba1-4df5-9c19-169f2de789d6",
   "metadata": {},
   "source": [
    "## Set model, Code and data"
   ]
  },
  {
   "cell_type": "code",
   "execution_count": null,
   "id": "25d3e133-95da-4751-bffd-71f4c1aa9a2b",
   "metadata": {
    "tags": []
   },
   "outputs": [],
   "source": [
    "import sagemaker\n",
    "from sagemaker import get_execution_role\n",
    "\n",
    "sess = sagemaker.Session()\n",
    "role = get_execution_role()\n",
    "sagemaker_default_bucket = sess.default_bucket()\n",
    "region = sess.boto_session.region_name\n",
    "print(\"sagemaker_default_bucket:\", sagemaker_default_bucket)\n",
    "print(\"sagemaker_region:\", region)"
   ]
  },
  {
   "cell_type": "markdown",
   "id": "b3da8a94",
   "metadata": {},
   "source": [
    "## upload pretrain models to s3"
   ]
  },
  {
   "cell_type": "code",
   "execution_count": null,
   "id": "d471f6ad-47a5-4a56-a752-541373de9a13",
   "metadata": {
    "collapsed": true,
    "jupyter": {
     "outputs_hidden": true
    },
    "tags": []
   },
   "outputs": [],
   "source": [
    "# Code language: python\n",
    "from huggingface_hub import snapshot_download\n",
    "from pathlib import Path\n",
    "\n",
    "local_cache_path = Path(\"./deepseek_coder\")\n",
    "local_cache_path.mkdir(exist_ok=True)\n",
    "\n",
    "model_name = \"deepseek-ai/deepseek-coder-6.7b-base\"\n",
    "\n",
    "# Only download pytorch checkpoint files\n",
    "allow_patterns = [\"*\"]\n",
    "\n",
    "model_download_path = snapshot_download(\n",
    "    repo_id=model_name,\n",
    "    cache_dir=local_cache_path,\n",
    "    allow_patterns=allow_patterns,\n",
    ")\n",
    "model_snapshot_path = list(local_cache_path.glob(\"**/snapshots/*\"))[0]"
   ]
  },
  {
   "cell_type": "code",
   "execution_count": null,
   "id": "372a7552-e0be-4db5-8fb2-145e0b8d0bfc",
   "metadata": {
    "collapsed": true,
    "jupyter": {
     "outputs_hidden": true
    },
    "tags": []
   },
   "outputs": [],
   "source": [
    "!aws s3 cp {model_snapshot_path} s3://{sagemaker_default_bucket}/Foundation-Models/deepseek_coder --recursive"
   ]
  },
  {
   "cell_type": "markdown",
   "id": "11311c58",
   "metadata": {},
   "source": [
    "## Setup for wandb"
   ]
  },
  {
   "cell_type": "code",
   "execution_count": null,
   "id": "a09b3ad4-909e-48ce-8823-bc600d563dcd",
   "metadata": {
    "collapsed": true,
    "jupyter": {
     "outputs_hidden": true
    },
    "tags": []
   },
   "outputs": [],
   "source": [
    "!pip install wandb"
   ]
  },
  {
   "cell_type": "code",
   "execution_count": null,
   "id": "6d3bafe1-097f-410b-9919-9e402887f398",
   "metadata": {
    "tags": []
   },
   "outputs": [],
   "source": [
    "import wandb\n",
    "wandb.login()"
   ]
  },
  {
   "cell_type": "markdown",
   "id": "5a54ecc7",
   "metadata": {},
   "source": [
    "## Submit Training job"
   ]
  },
  {
   "cell_type": "code",
   "execution_count": null,
   "id": "b165769a-0949-493e-99e4-c627f5fecf98",
   "metadata": {
    "scrolled": true,
    "tags": []
   },
   "outputs": [],
   "source": [
    "from sagemaker.estimator import Estimator\n",
    "from sagemaker.pytorch import PyTorch\n",
    "from datetime import datetime\n",
    "\n",
    "\n",
    "instance_count = 1\n",
    "# instance_type = 'ml.p4d.24xlarge'  ## 8*40G\n",
    "instance_type = 'ml.g5.48xlarge'  ## 8*24G\n",
    "max_time = 200000\n",
    "\n",
    "# Get the current time\n",
    "current_time = datetime.now()\n",
    "\n",
    "wandb.sagemaker_auth(path=\"llama_factory/\")\n",
    "# Format the current time as a string\n",
    "formatted_time = current_time.strftime(\"%Y%m%d%H%M%S\")\n",
    "print(formatted_time)\n",
    "\n",
    "base_job_name = 'deepseek6.7B-finetune'\n",
    "environment = {\n",
    "    'NODE_NUMBER':str(instance_count),\n",
    "    'MODEL_S3_PATH': f's3://{sagemaker_default_bucket}/Foundation-Models/deepseek_coder', # source model files\n",
    "    'MODEL_LOCAL_PATH': '/tmp/pretrain_model',\n",
    "    'OUTPUT_MODEL_S3_PATH': f's3://{sagemaker_default_bucket}/deepseek-coder-6.7b-base/finetuned_model/', # destination\n",
    "}\n",
    "\n",
    "estimator = PyTorch(entry_point='entry.py',\n",
    "                            source_dir='llama_factory/',\n",
    "                            role=role,\n",
    "                            base_job_name=base_job_name,\n",
    "                            environment=environment,\n",
    "                            framework_version='2.1.0',\n",
    "                            py_version='py310',\n",
    "                            script_mode=True,\n",
    "                            instance_count=instance_count,\n",
    "                            instance_type=instance_type,\n",
    "                            max_run=max_time)\n",
    "\n",
    "# # data in channel will be automatically copied to each node - /opt/ml/input/data/train1\n",
    "#input_channel = {'train': f's3://{sagemaker_default_bucket}/datasets/qiandao/{version}/train.json'}\n",
    "estimator.fit()"
   ]
  }
 ],
 "metadata": {
  "kernelspec": {
   "display_name": "conda_pytorch_p310",
   "language": "python",
   "name": "conda_pytorch_p310"
  },
  "language_info": {
   "codemirror_mode": {
    "name": "ipython",
    "version": 3
   },
   "file_extension": ".py",
   "mimetype": "text/x-python",
   "name": "python",
   "nbconvert_exporter": "python",
   "pygments_lexer": "ipython3",
   "version": "3.10.13"
  }
 },
 "nbformat": 4,
 "nbformat_minor": 5
}
